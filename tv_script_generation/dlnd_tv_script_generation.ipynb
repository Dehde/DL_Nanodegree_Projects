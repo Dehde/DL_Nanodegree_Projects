{
 "cells": [
  {
   "cell_type": "markdown",
   "metadata": {},
   "source": [
    "# TV Script Generation\n",
    "In this project, you'll generate your own [Simpsons](https://en.wikipedia.org/wiki/The_Simpsons) TV scripts using RNNs.  You'll be using part of the [Simpsons dataset](https://www.kaggle.com/wcukierski/the-simpsons-by-the-data) of scripts from 27 seasons.  The Neural Network you'll build will generate a new TV script for a scene at [Moe's Tavern](https://simpsonswiki.com/wiki/Moe's_Tavern).\n",
    "## Get the Data\n",
    "The data is already provided for you.  You'll be using a subset of the original dataset.  It consists of only the scenes in Moe's Tavern.  This doesn't include other versions of the tavern, like \"Moe's Cavern\", \"Flaming Moe's\", \"Uncle Moe's Family Feed-Bag\", etc.."
   ]
  },
  {
   "cell_type": "code",
   "execution_count": 1,
   "metadata": {
    "collapsed": true
   },
   "outputs": [],
   "source": [
    "\"\"\"\n",
    "DON'T MODIFY ANYTHING IN THIS CELL\n",
    "\"\"\"\n",
    "import helper\n",
    "\n",
    "data_dir = './data/simpsons/moes_tavern_lines.txt'\n",
    "text = helper.load_data(data_dir)\n",
    "# Ignore notice, since we don't use it for analysing the data\n",
    "text = text[81:]"
   ]
  },
  {
   "cell_type": "markdown",
   "metadata": {},
   "source": [
    "## Explore the Data\n",
    "Play around with `view_sentence_range` to view different parts of the data."
   ]
  },
  {
   "cell_type": "code",
   "execution_count": 2,
   "metadata": {},
   "outputs": [
    {
     "name": "stdout",
     "output_type": "stream",
     "text": [
      "Dataset Stats\n",
      "Roughly the number of unique words: 11492\n",
      "Number of scenes: 262\n",
      "Average number of sentences in each scene: 15.248091603053435\n",
      "Number of lines: 4257\n",
      "Average number of words in each line: 11.50434578341555\n",
      "\n",
      "The sentences 0 to 10:\n",
      "Moe_Szyslak: (INTO PHONE) Moe's Tavern. Where the elite meet to drink.\n",
      "Bart_Simpson: Eh, yeah, hello, is Mike there? Last name, Rotch.\n",
      "Moe_Szyslak: (INTO PHONE) Hold on, I'll check. (TO BARFLIES) Mike Rotch. Mike Rotch. Hey, has anybody seen Mike Rotch, lately?\n",
      "Moe_Szyslak: (INTO PHONE) Listen you little puke. One of these days I'm gonna catch you, and I'm gonna carve my name on your back with an ice pick.\n",
      "Moe_Szyslak: What's the matter Homer? You're not your normal effervescent self.\n",
      "Homer_Simpson: I got my problems, Moe. Give me another one.\n",
      "Moe_Szyslak: Homer, hey, you should not drink to forget your problems.\n",
      "Barney_Gumble: Yeah, you should only drink to enhance your social skills.\n",
      "\n",
      "\n"
     ]
    }
   ],
   "source": [
    "view_sentence_range = (0, 10)\n",
    "\n",
    "\"\"\"\n",
    "DON'T MODIFY ANYTHING IN THIS CELL\n",
    "\"\"\"\n",
    "import numpy as np\n",
    "\n",
    "print('Dataset Stats')\n",
    "print('Roughly the number of unique words: {}'.format(len({word: None for word in text.split()})))\n",
    "scenes = text.split('\\n\\n')\n",
    "print('Number of scenes: {}'.format(len(scenes)))\n",
    "sentence_count_scene = [scene.count('\\n') for scene in scenes]\n",
    "print('Average number of sentences in each scene: {}'.format(np.average(sentence_count_scene)))\n",
    "\n",
    "sentences = [sentence for scene in scenes for sentence in scene.split('\\n')]\n",
    "print('Number of lines: {}'.format(len(sentences)))\n",
    "word_count_sentence = [len(sentence.split()) for sentence in sentences]\n",
    "print('Average number of words in each line: {}'.format(np.average(word_count_sentence)))\n",
    "\n",
    "print()\n",
    "print('The sentences {} to {}:'.format(*view_sentence_range))\n",
    "print('\\n'.join(text.split('\\n')[view_sentence_range[0]:view_sentence_range[1]]))"
   ]
  },
  {
   "cell_type": "markdown",
   "metadata": {},
   "source": [
    "## Implement Preprocessing Functions\n",
    "The first thing to do to any dataset is preprocessing.  Implement the following preprocessing functions below:\n",
    "- Lookup Table\n",
    "- Tokenize Punctuation\n",
    "\n",
    "### Lookup Table\n",
    "To create a word embedding, you first need to transform the words to ids.  In this function, create two dictionaries:\n",
    "- Dictionary to go from the words to an id, we'll call `vocab_to_int`\n",
    "- Dictionary to go from the id to word, we'll call `int_to_vocab`\n",
    "\n",
    "Return these dictionaries in the following tuple `(vocab_to_int, int_to_vocab)`"
   ]
  },
  {
   "cell_type": "code",
   "execution_count": 3,
   "metadata": {
    "scrolled": true
   },
   "outputs": [
    {
     "name": "stdout",
     "output_type": "stream",
     "text": [
      "Tests Passed\n"
     ]
    }
   ],
   "source": [
    "import numpy as np\n",
    "import problem_unittests as tests\n",
    "from collections import Counter\n",
    "\n",
    "def create_lookup_tables(text):\n",
    "    \"\"\"\n",
    "    Create lookup tables for vocabulary\n",
    "    :param text: The text of tv scripts split into words\n",
    "    :return: A tuple of dicts (vocab_to_int, int_to_vocab)\n",
    "    \"\"\"\n",
    "    # TODO: Implement Function\n",
    "    word_counts = Counter(text)\n",
    "    vocab_to_int = {word:index for index, word in enumerate(word_counts)}\n",
    "    int_to_vocab = {index:word for word, index in vocab_to_int.items()}\n",
    "    return vocab_to_int, int_to_vocab\n",
    "\n",
    "\"\"\"\n",
    "DON'T MODIFY ANYTHING IN THIS CELL THAT IS BELOW THIS LINE\n",
    "\"\"\"\n",
    "tests.test_create_lookup_tables(create_lookup_tables)"
   ]
  },
  {
   "cell_type": "markdown",
   "metadata": {},
   "source": [
    "### Tokenize Punctuation\n",
    "We'll be splitting the script into a word array using spaces as delimiters.  However, punctuations like periods and exclamation marks make it hard for the neural network to distinguish between the word \"bye\" and \"bye!\".\n",
    "\n",
    "Implement the function `token_lookup` to return a dict that will be used to tokenize symbols like \"!\" into \"||Exclamation_Mark||\".  Create a dictionary for the following symbols where the symbol is the key and value is the token:\n",
    "- Period ( . )\n",
    "- Comma ( , )\n",
    "- Quotation Mark ( \" )\n",
    "- Semicolon ( ; )\n",
    "- Exclamation mark ( ! )\n",
    "- Question mark ( ? )\n",
    "- Left Parentheses ( ( )\n",
    "- Right Parentheses ( ) )\n",
    "- Dash ( -- )\n",
    "- Return ( \\n )\n",
    "\n",
    "This dictionary will be used to token the symbols and add the delimiter (space) around it.  This separates the symbols as it's own word, making it easier for the neural network to predict on the next word. Make sure you don't use a token that could be confused as a word. Instead of using the token \"dash\", try using something like \"||dash||\"."
   ]
  },
  {
   "cell_type": "code",
   "execution_count": 4,
   "metadata": {},
   "outputs": [
    {
     "name": "stdout",
     "output_type": "stream",
     "text": [
      "Tests Passed\n"
     ]
    }
   ],
   "source": [
    "def token_lookup():\n",
    "    \"\"\"\n",
    "    Generate a dict to turn punctuation into a token.\n",
    "    :return: Tokenize dictionary where the key is the punctuation and the value is the token\n",
    "    \"\"\"\n",
    "    tokenize_dict = {\n",
    "        '.': '<PERIOD>',\n",
    "        ',': '<COMMA>',\n",
    "        '\"': '<QUOTATION_MARK>',\n",
    "        ';': '<SEMICOLON>',\n",
    "        '!': '<EXCLAMATION_MARK>',\n",
    "        '?': '<QUESTION_MARK>',\n",
    "        '(': '<LEFT_PAREN>',\n",
    "        ')': '<RIGHT_PAREN>',\n",
    "        '--': '<HYPHENS>',\n",
    "        '?': '<QUESTION_MARK>',\n",
    "        '\\n': '<NEW_LINE>',\n",
    "        #':': '<COLON>'\n",
    "    }\n",
    "    \n",
    "    return tokenize_dict\n",
    "\n",
    "\"\"\"\n",
    "DON'T MODIFY ANYTHING IN THIS CELL THAT IS BELOW THIS LINE\n",
    "\"\"\"\n",
    "tests.test_tokenize(token_lookup)"
   ]
  },
  {
   "cell_type": "markdown",
   "metadata": {},
   "source": [
    "## Preprocess all the data and save it\n",
    "Running the code cell below will preprocess all the data and save it to file."
   ]
  },
  {
   "cell_type": "code",
   "execution_count": 5,
   "metadata": {
    "collapsed": true
   },
   "outputs": [],
   "source": [
    "\"\"\"\n",
    "DON'T MODIFY ANYTHING IN THIS CELL\n",
    "\"\"\"\n",
    "# Preprocess Training, Validation, and Testing Data\n",
    "helper.preprocess_and_save_data(data_dir, token_lookup, create_lookup_tables)"
   ]
  },
  {
   "cell_type": "markdown",
   "metadata": {},
   "source": [
    "# Check Point\n",
    "This is your first checkpoint. If you ever decide to come back to this notebook or have to restart the notebook, you can start from here. The preprocessed data has been saved to disk."
   ]
  },
  {
   "cell_type": "code",
   "execution_count": 6,
   "metadata": {
    "collapsed": true
   },
   "outputs": [],
   "source": [
    "\"\"\"\n",
    "DON'T MODIFY ANYTHING IN THIS CELL\n",
    "\"\"\"\n",
    "import helper\n",
    "import numpy as np\n",
    "import problem_unittests as tests\n",
    "\n",
    "int_text, vocab_to_int, int_to_vocab, token_dict = helper.load_preprocess()"
   ]
  },
  {
   "cell_type": "markdown",
   "metadata": {},
   "source": [
    "## Build the Neural Network\n",
    "You'll build the components necessary to build a RNN by implementing the following functions below:\n",
    "- get_inputs\n",
    "- get_init_cell\n",
    "- get_embed\n",
    "- build_rnn\n",
    "- build_nn\n",
    "- get_batches\n",
    "\n",
    "### Check the Version of TensorFlow and Access to GPU"
   ]
  },
  {
   "cell_type": "code",
   "execution_count": 7,
   "metadata": {},
   "outputs": [
    {
     "name": "stdout",
     "output_type": "stream",
     "text": [
      "TensorFlow Version: 1.3.0\n",
      "Default GPU Device: /gpu:0\n"
     ]
    }
   ],
   "source": [
    "\"\"\"\n",
    "DON'T MODIFY ANYTHING IN THIS CELL\n",
    "\"\"\"\n",
    "from distutils.version import LooseVersion\n",
    "import warnings\n",
    "import tensorflow as tf\n",
    "\n",
    "# Check TensorFlow Version\n",
    "assert LooseVersion(tf.__version__) >= LooseVersion('1.0'), 'Please use TensorFlow version 1.0 or newer'\n",
    "print('TensorFlow Version: {}'.format(tf.__version__))\n",
    "\n",
    "# Check for a GPU\n",
    "if not tf.test.gpu_device_name():\n",
    "    warnings.warn('No GPU found. Please use a GPU to train your neural network.')\n",
    "else:\n",
    "    print('Default GPU Device: {}'.format(tf.test.gpu_device_name()))"
   ]
  },
  {
   "cell_type": "markdown",
   "metadata": {},
   "source": [
    "### Input\n",
    "Implement the `get_inputs()` function to create TF Placeholders for the Neural Network.  It should create the following placeholders:\n",
    "- Input text placeholder named \"input\" using the [TF Placeholder](https://www.tensorflow.org/api_docs/python/tf/placeholder) `name` parameter.\n",
    "- Targets placeholder\n",
    "- Learning Rate placeholder\n",
    "\n",
    "Return the placeholders in the following tuple `(Input, Targets, LearningRate)`"
   ]
  },
  {
   "cell_type": "code",
   "execution_count": 8,
   "metadata": {},
   "outputs": [
    {
     "name": "stdout",
     "output_type": "stream",
     "text": [
      "Tests Passed\n"
     ]
    }
   ],
   "source": [
    "def get_inputs():\n",
    "    \"\"\"\n",
    "    Create TF Placeholders for input, targets, and learning rate.\n",
    "    :return: Tuple (input, targets, learning rate)\n",
    "    \"\"\"\n",
    "    Input = tf.placeholder(dtype=tf.int32, shape=(None,None), name='input')\n",
    "    Targets = tf.placeholder(dtype=tf.int32, shape=(None,None), name='targets')\n",
    "    LearningRate = tf.placeholder(dtype=tf.float32, shape=None, name='LearningRate')\n",
    "    # TODO: Implement Function\n",
    "    return (Input, Targets, LearningRate)\n",
    "\n",
    "\n",
    "\"\"\"\n",
    "DON'T MODIFY ANYTHING IN THIS CELL THAT IS BELOW THIS LINE\n",
    "\"\"\"\n",
    "tests.test_get_inputs(get_inputs)"
   ]
  },
  {
   "cell_type": "markdown",
   "metadata": {},
   "source": [
    "### Build RNN Cell and Initialize\n",
    "Stack one or more [`BasicLSTMCells`](https://www.tensorflow.org/api_docs/python/tf/contrib/rnn/BasicLSTMCell) in a [`MultiRNNCell`](https://www.tensorflow.org/api_docs/python/tf/contrib/rnn/MultiRNNCell).\n",
    "- The Rnn size should be set using `rnn_size`\n",
    "- Initalize Cell State using the MultiRNNCell's [`zero_state()`](https://www.tensorflow.org/api_docs/python/tf/contrib/rnn/MultiRNNCell#zero_state) function\n",
    "    - Apply the name \"initial_state\" to the initial state using [`tf.identity()`](https://www.tensorflow.org/api_docs/python/tf/identity)\n",
    "\n",
    "Return the cell and initial state in the following tuple `(Cell, InitialState)`"
   ]
  },
  {
   "cell_type": "code",
   "execution_count": 30,
   "metadata": {},
   "outputs": [
    {
     "name": "stdout",
     "output_type": "stream",
     "text": [
      "Tests Passed\n"
     ]
    }
   ],
   "source": [
    "def get_init_cell(batch_size, rnn_size):\n",
    "    \"\"\"\n",
    "    Create an RNN Cell and initialize it.\n",
    "    :param batch_size: Size of batches\n",
    "    :param rnn_size: Size of RNNs\n",
    "    :return: Tuple (cell, initialize state)\n",
    "    \"\"\"\n",
    "    def build_cell(batch_size):\n",
    "        return tf.contrib.rnn.BasicLSTMCell(rnn_size)\n",
    "    \n",
    "    cell = tf.contrib.rnn.MultiRNNCell([build_cell(rnn_size) for _ in range(3)])\n",
    "    initial_state = cell.zero_state(batch_size, tf.float32)\n",
    "    initial_state = tf.identity(initial_state, name='initial_state')\n",
    "    return cell, initial_state\n",
    "\n",
    "\n",
    "\"\"\"\n",
    "DON'T MODIFY ANYTHING IN THIS CELL THAT IS BELOW THIS LINE\n",
    "\"\"\"\n",
    "tests.test_get_init_cell(get_init_cell)"
   ]
  },
  {
   "cell_type": "markdown",
   "metadata": {},
   "source": [
    "### Word Embedding\n",
    "Apply embedding to `input_data` using TensorFlow.  Return the embedded sequence."
   ]
  },
  {
   "cell_type": "code",
   "execution_count": 10,
   "metadata": {},
   "outputs": [
    {
     "name": "stdout",
     "output_type": "stream",
     "text": [
      "Tests Passed\n"
     ]
    }
   ],
   "source": [
    "def get_embed(input_data, vocab_size, embed_dim):\n",
    "    \"\"\"\n",
    "    Create embedding for <input_data>.\n",
    "    :param input_data: TF placeholder for text input.\n",
    "    :param vocab_size: Number of words in vocabulary.\n",
    "    :param embed_dim: Number of embedding dimensions\n",
    "    :return: Embedded input.\n",
    "    \"\"\"\n",
    "    embedding = tf.Variable(tf.random_uniform((vocab_size, embed_dim), -1, 1))\n",
    "    embed = tf.nn.embedding_lookup(embedding, input_data)\n",
    "    return embed\n",
    "\n",
    "\n",
    "\"\"\"\n",
    "DON'T MODIFY ANYTHING IN THIS CELL THAT IS BELOW THIS LINE\n",
    "\"\"\"\n",
    "tests.test_get_embed(get_embed)"
   ]
  },
  {
   "cell_type": "markdown",
   "metadata": {},
   "source": [
    "### Build RNN\n",
    "You created a RNN Cell in the `get_init_cell()` function.  Time to use the cell to create a RNN.\n",
    "- Build the RNN using the [`tf.nn.dynamic_rnn()`](https://www.tensorflow.org/api_docs/python/tf/nn/dynamic_rnn)\n",
    " - Apply the name \"final_state\" to the final state using [`tf.identity()`](https://www.tensorflow.org/api_docs/python/tf/identity)\n",
    "\n",
    "Return the outputs and final_state state in the following tuple `(Outputs, FinalState)` "
   ]
  },
  {
   "cell_type": "code",
   "execution_count": 11,
   "metadata": {},
   "outputs": [
    {
     "name": "stdout",
     "output_type": "stream",
     "text": [
      "Tests Passed\n"
     ]
    }
   ],
   "source": [
    "def build_rnn(cell, inputs):\n",
    "    \"\"\"\n",
    "    Create a RNN using a RNN Cell\n",
    "    :param cell: RNN Cell\n",
    "    :param inputs: Input text data\n",
    "    :return: Tuple (Outputs, Final State)\n",
    "    \"\"\"\n",
    "    \n",
    "    Outputs, FinalState = tf.nn.dynamic_rnn(cell, inputs, dtype=tf.float32)#,\n",
    "                                   #initial_state=initial_state)\n",
    "    FinalState = tf.identity(FinalState, name='final_state')\n",
    "\n",
    "    # TODO: Implement Function\n",
    "    return Outputs, FinalState\n",
    "\n",
    "\n",
    "\"\"\"\n",
    "DON'T MODIFY ANYTHING IN THIS CELL THAT IS BELOW THIS LINE\n",
    "\"\"\"\n",
    "tests.test_build_rnn(build_rnn)"
   ]
  },
  {
   "cell_type": "markdown",
   "metadata": {},
   "source": [
    "### Build the Neural Network\n",
    "Apply the functions you implemented above to:\n",
    "- Apply embedding to `input_data` using your `get_embed(input_data, vocab_size, embed_dim)` function.\n",
    "- Build RNN using `cell` and your `build_rnn(cell, inputs)` function.\n",
    "- Apply a fully connected layer with a linear activation and `vocab_size` as the number of outputs.\n",
    "\n",
    "Return the logits and final state in the following tuple (Logits, FinalState) "
   ]
  },
  {
   "cell_type": "code",
   "execution_count": 12,
   "metadata": {},
   "outputs": [
    {
     "data": {
      "text/plain": [
       "\"\\nDON'T MODIFY ANYTHING IN THIS CELL THAT IS BELOW THIS LINE\\n\""
      ]
     },
     "execution_count": 12,
     "metadata": {},
     "output_type": "execute_result"
    }
   ],
   "source": [
    "def build_nn(cell, rnn_size, input_data, vocab_size, embed_dim):\n",
    "    \"\"\"\n",
    "    Build part of the neural network\n",
    "    :param cell: RNN cell\n",
    "    :param rnn_size: Size of rnns\n",
    "    :param input_data: Input data\n",
    "    :param vocab_size: Vocabulary size\n",
    "    :param embed_dim: Number of embedding dimensions\n",
    "    :return: Tuple (Logits, FinalState)\n",
    "    \"\"\"\n",
    "    embedding = get_embed(input_data, vocab_size, embed_dim)\n",
    "    Outputs, FinalState = build_rnn(cell, embedding)\n",
    "    logits = tf.contrib.layers.fully_connected(Outputs, vocab_size)\n",
    "    \n",
    "    return logits, FinalState\n",
    "\n",
    "\n",
    "\"\"\"\n",
    "DON'T MODIFY ANYTHING IN THIS CELL THAT IS BELOW THIS LINE\n",
    "\"\"\"\n",
    "#tests.test_build_nn(build_nn)"
   ]
  },
  {
   "cell_type": "markdown",
   "metadata": {},
   "source": [
    "### Batches\n",
    "Implement `get_batches` to create batches of input and targets using `int_text`.  The batches should be a Numpy array with the shape `(number of batches, 2, batch size, sequence length)`. Each batch contains two elements:\n",
    "- The first element is a single batch of **input** with the shape `[batch size, sequence length]`\n",
    "- The second element is a single batch of **targets** with the shape `[batch size, sequence length]`\n",
    "\n",
    "If you can't fill the last batch with enough data, drop the last batch.\n",
    "\n",
    "For exmple, `get_batches([1, 2, 3, 4, 5, 6, 7, 8, 9, 10, 11, 12, 13, 14, 15, 16, 17, 18, 19, 20], 3, 2)` would return a Numpy array of the following:\n",
    "```\n",
    "[\n",
    "  # First Batch\n",
    "  [\n",
    "    # Batch of Input\n",
    "    [[ 1  2], [ 7  8], [13 14]]\n",
    "    # Batch of targets\n",
    "    [[ 2  3], [ 8  9], [14 15]]\n",
    "  ]\n",
    "\n",
    "  # Second Batch\n",
    "  [\n",
    "    # Batch of Input\n",
    "    [[ 3  4], [ 9 10], [15 16]]\n",
    "    # Batch of targets\n",
    "    [[ 4  5], [10 11], [16 17]]\n",
    "  ]\n",
    "\n",
    "  # Third Batch\n",
    "  [\n",
    "    # Batch of Input\n",
    "    [[ 5  6], [11 12], [17 18]]\n",
    "    # Batch of targets\n",
    "    [[ 6  7], [12 13], [18  1]]\n",
    "  ]\n",
    "]\n",
    "```\n",
    "\n",
    "Notice that the last target value in the last batch is the first input value of the first batch. In this case, `1`. This is a common technique used when creating sequence batches, although it is rather unintuitive."
   ]
  },
  {
   "cell_type": "code",
   "execution_count": 13,
   "metadata": {},
   "outputs": [
    {
     "name": "stdout",
     "output_type": "stream",
     "text": [
      "Tests Passed\n"
     ]
    }
   ],
   "source": [
    "def get_batches(int_text, batch_size, seq_length):\n",
    "    \"\"\"\n",
    "    Return batches of input and target\n",
    "    :param int_text: Text with the words replaced by their ids\n",
    "    :param batch_size: The size of batch\n",
    "    :param seq_length: The length of sequence\n",
    "    :return: Batches as a Numpy array\n",
    "    \"\"\"\n",
    "    total_input_length = len(int_text)\n",
    "    number_batches = int(np.floor(total_input_length/seq_length/batch_size))\n",
    "    int_text_length_per_batch = seq_length*batch_size\n",
    "    \n",
    "    output_array = np.ones([number_batches, 2, batch_size, seq_length], dtype=np.float)\n",
    "    \n",
    "    seq_times_num_batches = seq_length*number_batches\n",
    "    \n",
    "    for ind_batch in range(number_batches):\n",
    "        for ind_sequence in range(batch_size):\n",
    "            output_array[ind_batch, 0, ind_sequence, :] = int_text[ind_batch*seq_length +\n",
    "                                                                 ind_sequence*seq_times_num_batches:\n",
    "                                                                 ind_batch*seq_length +\n",
    "                                                                 (ind_sequence)*seq_times_num_batches+seq_length]\n",
    "            output_array[ind_batch, 1, ind_sequence, :] = int_text[ind_batch*seq_length +\n",
    "                                                                     ind_sequence*seq_times_num_batches +1:\n",
    "                                                                     ind_batch*seq_length +\n",
    "                                                                     (ind_sequence)*seq_times_num_batches\n",
    "                                                                     +1+seq_length]\n",
    "    output_array[-1,-1,-1,-1] = output_array[0,0,0,0]\n",
    "    return output_array\n",
    "\n",
    "\"\"\"\n",
    "DON'T MODIFY ANYTHING IN THIS CELL THAT IS BELOW THIS LINE\n",
    "\"\"\"\n",
    "\n",
    "tests.test_get_batches(get_batches)"
   ]
  },
  {
   "cell_type": "markdown",
   "metadata": {},
   "source": [
    "## Neural Network Training\n",
    "### Hyperparameters\n",
    "Tune the following parameters:\n",
    "\n",
    "- Set `num_epochs` to the number of epochs.\n",
    "- Set `batch_size` to the batch size.\n",
    "- Set `rnn_size` to the size of the RNNs.\n",
    "- Set `embed_dim` to the size of the embedding.\n",
    "- Set `seq_length` to the length of sequence.\n",
    "- Set `learning_rate` to the learning rate.\n",
    "- Set `show_every_n_batches` to the number of batches the neural network should print progress."
   ]
  },
  {
   "cell_type": "code",
   "execution_count": 84,
   "metadata": {
    "collapsed": true
   },
   "outputs": [],
   "source": [
    "# Number of Epochs\n",
    "num_epochs = 650\n",
    "# Batch Size\n",
    "batch_size = 100\n",
    "# RNN Size\n",
    "rnn_size = 128\n",
    "# Embedding Dimension Size\n",
    "embed_dim = 128\n",
    "# Sequence Length\n",
    "seq_length = 25\n",
    "# Learning Rate\n",
    "learning_rate = 0.005\n",
    "# Show stats for every n number of batches\n",
    "show_every_n_batches = 100\n",
    "\n",
    "\"\"\"\n",
    "DON'T MODIFY ANYTHING IN THIS CELL THAT IS BELOW THIS LINE\n",
    "\"\"\"\n",
    "save_dir = './save'"
   ]
  },
  {
   "cell_type": "markdown",
   "metadata": {},
   "source": [
    "### Build the Graph\n",
    "Build the graph using the neural network you implemented."
   ]
  },
  {
   "cell_type": "code",
   "execution_count": 85,
   "metadata": {},
   "outputs": [],
   "source": [
    "\"\"\"\n",
    "DON'T MODIFY ANYTHING IN THIS CELL\n",
    "\"\"\"\n",
    "from tensorflow.contrib import seq2seq\n",
    "\n",
    "train_graph = tf.Graph()\n",
    "with train_graph.as_default():\n",
    "    vocab_size = len(int_to_vocab)\n",
    "    input_text, targets, lr = get_inputs()\n",
    "    input_data_shape = tf.shape(input_text)\n",
    "    cell, initial_state = get_init_cell(input_data_shape[0], rnn_size)\n",
    "    logits, final_state = build_nn(cell, rnn_size, input_text, vocab_size, embed_dim)\n",
    "\n",
    "    # Probabilities for generating words\n",
    "    probs = tf.nn.softmax(logits, name='probs')\n",
    "\n",
    "    # Loss function\n",
    "    cost = seq2seq.sequence_loss(\n",
    "        logits,\n",
    "        targets,\n",
    "        tf.ones([input_data_shape[0], input_data_shape[1]]))\n",
    "\n",
    "    # Optimizer\n",
    "    optimizer = tf.train.AdamOptimizer(lr)\n",
    "\n",
    "    # Gradient Clipping\n",
    "    gradients = optimizer.compute_gradients(cost)\n",
    "    capped_gradients = [(tf.clip_by_value(grad, -1., 1.), var) for grad, var in gradients if grad is not None]\n",
    "    train_op = optimizer.apply_gradients(capped_gradients)"
   ]
  },
  {
   "cell_type": "markdown",
   "metadata": {},
   "source": [
    "## Train\n",
    "Train the neural network on the preprocessed data.  If you have a hard time getting a good loss, check the [forums](https://discussions.udacity.com/) to see if anyone is having the same problem."
   ]
  },
  {
   "cell_type": "code",
   "execution_count": 86,
   "metadata": {
    "scrolled": true
   },
   "outputs": [
    {
     "name": "stdout",
     "output_type": "stream",
     "text": [
      "Epoch   0 Batch    0/27   train_loss = 8.822\n",
      "Epoch   3 Batch   19/27   train_loss = 6.114\n",
      "Epoch   7 Batch   11/27   train_loss = 6.076\n",
      "Epoch  11 Batch    3/27   train_loss = 6.161\n",
      "Epoch  14 Batch   22/27   train_loss = 6.024\n",
      "Epoch  18 Batch   14/27   train_loss = 6.131\n",
      "Epoch  22 Batch    6/27   train_loss = 5.992\n",
      "Epoch  25 Batch   25/27   train_loss = 5.845\n",
      "Epoch  29 Batch   17/27   train_loss = 5.854\n",
      "Epoch  33 Batch    9/27   train_loss = 5.639\n",
      "Epoch  37 Batch    1/27   train_loss = 5.440\n",
      "Epoch  40 Batch   20/27   train_loss = 5.145\n",
      "Epoch  44 Batch   12/27   train_loss = 4.898\n",
      "Epoch  48 Batch    4/27   train_loss = 4.834\n",
      "Epoch  51 Batch   23/27   train_loss = 4.696\n",
      "Epoch  55 Batch   15/27   train_loss = 4.478\n",
      "Epoch  59 Batch    7/27   train_loss = 4.525\n",
      "Epoch  62 Batch   26/27   train_loss = 4.411\n",
      "Epoch  66 Batch   18/27   train_loss = 4.280\n",
      "Epoch  70 Batch   10/27   train_loss = 4.340\n",
      "Epoch  74 Batch    2/27   train_loss = 3.995\n",
      "Epoch  77 Batch   21/27   train_loss = 4.073\n",
      "Epoch  81 Batch   13/27   train_loss = 4.159\n",
      "Epoch  85 Batch    5/27   train_loss = 3.851\n",
      "Epoch  88 Batch   24/27   train_loss = 3.860\n",
      "Epoch  92 Batch   16/27   train_loss = 3.821\n",
      "Epoch  96 Batch    8/27   train_loss = 3.598\n",
      "Epoch 100 Batch    0/27   train_loss = 3.544\n",
      "Epoch 103 Batch   19/27   train_loss = 3.455\n",
      "Epoch 107 Batch   11/27   train_loss = 3.441\n",
      "Epoch 111 Batch    3/27   train_loss = 3.449\n",
      "Epoch 114 Batch   22/27   train_loss = 3.292\n",
      "Epoch 118 Batch   14/27   train_loss = 3.350\n",
      "Epoch 122 Batch    6/27   train_loss = 3.412\n",
      "Epoch 125 Batch   25/27   train_loss = 3.234\n",
      "Epoch 129 Batch   17/27   train_loss = 3.076\n",
      "Epoch 133 Batch    9/27   train_loss = 3.016\n",
      "Epoch 137 Batch    1/27   train_loss = 2.960\n",
      "Epoch 140 Batch   20/27   train_loss = 2.894\n",
      "Epoch 144 Batch   12/27   train_loss = 3.085\n",
      "Epoch 148 Batch    4/27   train_loss = 2.965\n",
      "Epoch 151 Batch   23/27   train_loss = 2.846\n",
      "Epoch 155 Batch   15/27   train_loss = 2.787\n",
      "Epoch 159 Batch    7/27   train_loss = 2.976\n",
      "Epoch 162 Batch   26/27   train_loss = 2.873\n",
      "Epoch 166 Batch   18/27   train_loss = 2.791\n",
      "Epoch 170 Batch   10/27   train_loss = 2.916\n",
      "Epoch 174 Batch    2/27   train_loss = 2.850\n",
      "Epoch 177 Batch   21/27   train_loss = 2.810\n",
      "Epoch 181 Batch   13/27   train_loss = 2.942\n",
      "Epoch 185 Batch    5/27   train_loss = 2.721\n",
      "Epoch 188 Batch   24/27   train_loss = 2.859\n",
      "Epoch 192 Batch   16/27   train_loss = 2.783\n",
      "Epoch 196 Batch    8/27   train_loss = 2.830\n",
      "Epoch 200 Batch    0/27   train_loss = 2.691\n",
      "Epoch 203 Batch   19/27   train_loss = 2.605\n",
      "Epoch 207 Batch   11/27   train_loss = 2.540\n",
      "Epoch 211 Batch    3/27   train_loss = 2.736\n",
      "Epoch 214 Batch   22/27   train_loss = 2.688\n",
      "Epoch 218 Batch   14/27   train_loss = 2.669\n",
      "Epoch 222 Batch    6/27   train_loss = 2.634\n",
      "Epoch 225 Batch   25/27   train_loss = 2.576\n",
      "Epoch 229 Batch   17/27   train_loss = 2.640\n",
      "Epoch 233 Batch    9/27   train_loss = 2.601\n",
      "Epoch 237 Batch    1/27   train_loss = 2.477\n",
      "Epoch 240 Batch   20/27   train_loss = 2.436\n",
      "Epoch 244 Batch   12/27   train_loss = 2.475\n",
      "Epoch 248 Batch    4/27   train_loss = 2.547\n",
      "Epoch 251 Batch   23/27   train_loss = 2.582\n",
      "Epoch 255 Batch   15/27   train_loss = 2.511\n",
      "Epoch 259 Batch    7/27   train_loss = 2.669\n",
      "Epoch 262 Batch   26/27   train_loss = 2.643\n",
      "Epoch 266 Batch   18/27   train_loss = 2.568\n",
      "Epoch 270 Batch   10/27   train_loss = 2.599\n",
      "Epoch 274 Batch    2/27   train_loss = 2.468\n",
      "Epoch 277 Batch   21/27   train_loss = 2.495\n",
      "Epoch 281 Batch   13/27   train_loss = 2.724\n",
      "Epoch 285 Batch    5/27   train_loss = 2.460\n",
      "Epoch 288 Batch   24/27   train_loss = 2.549\n",
      "Epoch 292 Batch   16/27   train_loss = 2.419\n",
      "Epoch 296 Batch    8/27   train_loss = 2.543\n",
      "Epoch 300 Batch    0/27   train_loss = 2.494\n",
      "Epoch 303 Batch   19/27   train_loss = 2.424\n",
      "Epoch 307 Batch   11/27   train_loss = 2.342\n",
      "Epoch 311 Batch    3/27   train_loss = 2.481\n",
      "Epoch 314 Batch   22/27   train_loss = 2.385\n",
      "Epoch 318 Batch   14/27   train_loss = 2.441\n",
      "Epoch 322 Batch    6/27   train_loss = 2.455\n",
      "Epoch 325 Batch   25/27   train_loss = 2.409\n",
      "Epoch 329 Batch   17/27   train_loss = 2.451\n",
      "Epoch 333 Batch    9/27   train_loss = 2.390\n",
      "Epoch 337 Batch    1/27   train_loss = 2.311\n",
      "Epoch 340 Batch   20/27   train_loss = 2.367\n",
      "Epoch 344 Batch   12/27   train_loss = 4.045\n",
      "Epoch 348 Batch    4/27   train_loss = 3.223\n",
      "Epoch 351 Batch   23/27   train_loss = 2.825\n",
      "Epoch 355 Batch   15/27   train_loss = 2.795\n",
      "Epoch 359 Batch    7/27   train_loss = 2.739\n",
      "Epoch 362 Batch   26/27   train_loss = 2.589\n",
      "Epoch 366 Batch   18/27   train_loss = 2.505\n",
      "Epoch 370 Batch   10/27   train_loss = 2.561\n",
      "Epoch 374 Batch    2/27   train_loss = 2.423\n",
      "Epoch 377 Batch   21/27   train_loss = 2.484\n",
      "Epoch 381 Batch   13/27   train_loss = 2.711\n",
      "Epoch 385 Batch    5/27   train_loss = 2.449\n",
      "Epoch 388 Batch   24/27   train_loss = 2.547\n",
      "Epoch 392 Batch   16/27   train_loss = 2.409\n",
      "Epoch 396 Batch    8/27   train_loss = 2.551\n",
      "Epoch 400 Batch    0/27   train_loss = 2.507\n",
      "Epoch 403 Batch   19/27   train_loss = 2.431\n",
      "Epoch 407 Batch   11/27   train_loss = 2.353\n",
      "Epoch 411 Batch    3/27   train_loss = 2.488\n",
      "Epoch 414 Batch   22/27   train_loss = 2.391\n",
      "Epoch 418 Batch   14/27   train_loss = 2.450\n",
      "Epoch 422 Batch    6/27   train_loss = 2.463\n",
      "Epoch 425 Batch   25/27   train_loss = 2.486\n",
      "Epoch 429 Batch   17/27   train_loss = 3.525\n",
      "Epoch 433 Batch    9/27   train_loss = 2.960\n",
      "Epoch 437 Batch    1/27   train_loss = 2.554\n",
      "Epoch 440 Batch   20/27   train_loss = 2.585\n",
      "Epoch 444 Batch   12/27   train_loss = 2.462\n",
      "Epoch 448 Batch    4/27   train_loss = 2.456\n",
      "Epoch 451 Batch   23/27   train_loss = 2.426\n",
      "Epoch 455 Batch   15/27   train_loss = 2.357\n",
      "Epoch 459 Batch    7/27   train_loss = 2.506\n",
      "Epoch 462 Batch   26/27   train_loss = 2.511\n",
      "Epoch 466 Batch   18/27   train_loss = 2.462\n",
      "Epoch 470 Batch   10/27   train_loss = 2.528\n",
      "Epoch 474 Batch    2/27   train_loss = 2.401\n",
      "Epoch 477 Batch   21/27   train_loss = 2.467\n",
      "Epoch 481 Batch   13/27   train_loss = 2.703\n",
      "Epoch 485 Batch    5/27   train_loss = 2.432\n",
      "Epoch 488 Batch   24/27   train_loss = 2.524\n",
      "Epoch 492 Batch   16/27   train_loss = 2.405\n",
      "Epoch 496 Batch    8/27   train_loss = 2.541\n",
      "Epoch 500 Batch    0/27   train_loss = 2.491\n",
      "Epoch 503 Batch   19/27   train_loss = 2.419\n",
      "Epoch 507 Batch   11/27   train_loss = 2.355\n",
      "Epoch 511 Batch    3/27   train_loss = 3.227\n",
      "Epoch 514 Batch   22/27   train_loss = 3.067\n",
      "Epoch 518 Batch   14/27   train_loss = 2.689\n",
      "Epoch 522 Batch    6/27   train_loss = 2.580\n",
      "Epoch 525 Batch   25/27   train_loss = 2.456\n",
      "Epoch 529 Batch   17/27   train_loss = 2.472\n",
      "Epoch 533 Batch    9/27   train_loss = 2.408\n",
      "Epoch 537 Batch    1/27   train_loss = 2.316\n",
      "Epoch 540 Batch   20/27   train_loss = 2.336\n",
      "Epoch 544 Batch   12/27   train_loss = 2.359\n",
      "Epoch 548 Batch    4/27   train_loss = 2.419\n",
      "Epoch 551 Batch   23/27   train_loss = 2.402\n",
      "Epoch 555 Batch   15/27   train_loss = 2.349\n",
      "Epoch 559 Batch    7/27   train_loss = 2.498\n",
      "Epoch 562 Batch   26/27   train_loss = 2.498\n",
      "Epoch 566 Batch   18/27   train_loss = 2.449\n",
      "Epoch 570 Batch   10/27   train_loss = 2.512\n",
      "Epoch 574 Batch    2/27   train_loss = 2.389\n",
      "Epoch 577 Batch   21/27   train_loss = 2.463\n",
      "Epoch 581 Batch   13/27   train_loss = 2.690\n",
      "Epoch 585 Batch    5/27   train_loss = 2.425\n",
      "Epoch 588 Batch   24/27   train_loss = 2.522\n",
      "Epoch 592 Batch   16/27   train_loss = 2.400\n",
      "Epoch 596 Batch    8/27   train_loss = 2.551\n",
      "Epoch 600 Batch    0/27   train_loss = 3.692\n",
      "Epoch 603 Batch   19/27   train_loss = 3.108\n",
      "Epoch 607 Batch   11/27   train_loss = 2.616\n",
      "Epoch 611 Batch    3/27   train_loss = 2.589\n",
      "Epoch 614 Batch   22/27   train_loss = 2.463\n",
      "Epoch 618 Batch   14/27   train_loss = 2.446\n",
      "Epoch 622 Batch    6/27   train_loss = 2.467\n",
      "Epoch 625 Batch   25/27   train_loss = 2.418\n",
      "Epoch 629 Batch   17/27   train_loss = 2.477\n",
      "Epoch 633 Batch    9/27   train_loss = 2.404\n",
      "Epoch 637 Batch    1/27   train_loss = 2.319\n",
      "Epoch 640 Batch   20/27   train_loss = 2.326\n",
      "Epoch 644 Batch   12/27   train_loss = 2.349\n",
      "Epoch 648 Batch    4/27   train_loss = 2.410\n",
      "Model Trained and Saved\n"
     ]
    }
   ],
   "source": [
    "\"\"\"\n",
    "DON'T MODIFY ANYTHING IN THIS CELL\n",
    "\"\"\"\n",
    "batches = get_batches(int_text, batch_size, seq_length)\n",
    "\n",
    "with tf.Session(graph=train_graph) as sess:\n",
    "    sess.run(tf.global_variables_initializer())\n",
    "\n",
    "    for epoch_i in range(num_epochs):\n",
    "        state = sess.run(initial_state, {input_text: batches[0][0]})\n",
    "\n",
    "        for batch_i, (x, y) in enumerate(batches):\n",
    "            feed = {\n",
    "                input_text: x,\n",
    "                targets: y,\n",
    "                initial_state: state,\n",
    "                lr: learning_rate}\n",
    "            train_loss, state, _ = sess.run([cost, final_state, train_op], feed)\n",
    "\n",
    "            # Show every <show_every_n_batches> batches\n",
    "            if (epoch_i *len(batches) + batch_i) % show_every_n_batches == 0:\n",
    "                print('Epoch {:>3} Batch {:>4}/{}   train_loss = {:.3f}'.format(\n",
    "                    epoch_i,\n",
    "                    batch_i,\n",
    "                    len(batches),\n",
    "                    train_loss))\n",
    "\n",
    "    # Save Model\n",
    "    saver = tf.train.Saver()\n",
    "    saver.save(sess, save_dir)\n",
    "    print('Model Trained and Saved')"
   ]
  },
  {
   "cell_type": "markdown",
   "metadata": {},
   "source": [
    "## Save Parameters\n",
    "Save `seq_length` and `save_dir` for generating a new TV script."
   ]
  },
  {
   "cell_type": "code",
   "execution_count": 87,
   "metadata": {
    "collapsed": true
   },
   "outputs": [],
   "source": [
    "\"\"\"\n",
    "DON'T MODIFY ANYTHING IN THIS CELL\n",
    "\"\"\"\n",
    "# Save parameters for checkpoint\n",
    "helper.save_params((seq_length, save_dir))"
   ]
  },
  {
   "cell_type": "markdown",
   "metadata": {},
   "source": [
    "# Checkpoint"
   ]
  },
  {
   "cell_type": "code",
   "execution_count": 88,
   "metadata": {
    "collapsed": true
   },
   "outputs": [],
   "source": [
    "\"\"\"\n",
    "DON'T MODIFY ANYTHING IN THIS CELL\n",
    "\"\"\"\n",
    "import tensorflow as tf\n",
    "import numpy as np\n",
    "import helper\n",
    "import problem_unittests as tests\n",
    "\n",
    "_, vocab_to_int, int_to_vocab, token_dict = helper.load_preprocess()\n",
    "seq_length, load_dir = helper.load_params()"
   ]
  },
  {
   "cell_type": "markdown",
   "metadata": {},
   "source": [
    "## Implement Generate Functions\n",
    "### Get Tensors\n",
    "Get tensors from `loaded_graph` using the function [`get_tensor_by_name()`](https://www.tensorflow.org/api_docs/python/tf/Graph#get_tensor_by_name).  Get the tensors using the following names:\n",
    "- \"input:0\"\n",
    "- \"initial_state:0\"\n",
    "- \"final_state:0\"\n",
    "- \"probs:0\"\n",
    "\n",
    "Return the tensors in the following tuple `(InputTensor, InitialStateTensor, FinalStateTensor, ProbsTensor)` "
   ]
  },
  {
   "cell_type": "code",
   "execution_count": 82,
   "metadata": {},
   "outputs": [
    {
     "name": "stdout",
     "output_type": "stream",
     "text": [
      "Tests Passed\n"
     ]
    }
   ],
   "source": [
    "def get_tensors(loaded_graph):\n",
    "    \"\"\"\n",
    "    Get input, initial state, final state, and probabilities tensor from <loaded_graph>\n",
    "    :param loaded_graph: TensorFlow graph loaded from file\n",
    "    :return: Tuple (InputTensor, InitialStateTensor, FinalStateTensor, ProbsTensor)\n",
    "    \"\"\"\n",
    "    InputTensor = loaded_graph.get_tensor_by_name(\"input:0\")\n",
    "    InitialStateTensor = loaded_graph.get_tensor_by_name(\"initial_state:0\")\n",
    "    FinalStateTensor = loaded_graph.get_tensor_by_name(\"final_state:0\")\n",
    "    ProbsTensor = loaded_graph.get_tensor_by_name(\"probs:0\")\n",
    "    # TODO: Implement Function\n",
    "    return (InputTensor, InitialStateTensor, FinalStateTensor, ProbsTensor)\n",
    "\n",
    "\n",
    "\"\"\"\n",
    "DON'T MODIFY ANYTHING IN THIS CELL THAT IS BELOW THIS LINE\n",
    "\"\"\"\n",
    "tests.test_get_tensors(get_tensors)"
   ]
  },
  {
   "cell_type": "markdown",
   "metadata": {},
   "source": [
    "### Choose Word\n",
    "Implement the `pick_word()` function to select the next word using `probabilities`."
   ]
  },
  {
   "cell_type": "code",
   "execution_count": 72,
   "metadata": {},
   "outputs": [
    {
     "name": "stdout",
     "output_type": "stream",
     "text": [
      "Tests Passed\n"
     ]
    }
   ],
   "source": [
    "def pick_word(probabilities, int_to_vocab):\n",
    "    \"\"\"\n",
    "    Pick the next word in the generated text\n",
    "    :param probabilities: Probabilites of the next word\n",
    "    :param int_to_vocab: Dictionary of word ids as the keys and words as the values\n",
    "    :return: String of the predicted word\n",
    "    \"\"\" \n",
    "    pick_int = np.argmax(probabilities)\n",
    "    pick_word = int_to_vocab[pick_int]\n",
    "    # TODO: Implement Function\n",
    "    return pick_word\n",
    "\n",
    "\n",
    "\"\"\"\n",
    "DON'T MODIFY ANYTHING IN THIS CELL THAT IS BELOW THIS LINE\n",
    "\"\"\"\n",
    "tests.test_pick_word(pick_word)"
   ]
  },
  {
   "cell_type": "markdown",
   "metadata": {},
   "source": [
    "## Generate TV Script\n",
    "This will generate the TV script for you.  Set `gen_length` to the length of TV script you want to generate."
   ]
  },
  {
   "cell_type": "code",
   "execution_count": 89,
   "metadata": {},
   "outputs": [
    {
     "name": "stdout",
     "output_type": "stream",
     "text": [
      "INFO:tensorflow:Restoring parameters from ./save\n",
      "moe_szyslak:(looking at homer) you're right. he make it was in my bar, i'm too high.\n",
      "lenny_leonard: no problem. there's it all bees...\n",
      "homer_simpson:(little idea) hear you?\n",
      "moe_szyslak: listen to the stuff?\n",
      "lenny_leonard: but i?\n",
      "\n",
      "\n",
      "moe_szyslak: hey, wait so okay. i'll bees at the bees.\n",
      "carl_carlson:(on it) who are bees. that's your last million by her about time.\n",
      "homer_simpson:(carl) wow, got a bees.\n",
      "chief_wiggum:(on) bees, know that homer... that's like, mr. burns. you're bees!\n",
      "\n",
      "\n",
      "marge_simpson: oh, i can listen to this think who?\n",
      "homer_simpson: is that.\n",
      "homer_simpson:(in the through hands at voice) hey, in here?\n",
      "homer_simpson: well, i?\n",
      "lenny_leonard:... what do you all over to make what?\n",
      "chief_wiggum:(to guys) so the bees.\n",
      "seymour_skinner: yeah, and who have seen our old best friend. and i'm one of his mouth.\n",
      "moe_szyslak: you mean now, homer. you're should have! of some kind of\" through comin' with homer! but i'm not going to make a help.\n",
      "moe_szyslak: don't come out!\n",
      "chief_wiggum: uh, that's the one?\n",
      "moe_szyslak: what?\n",
      "moe_szyslak: uh, well, i gotta get homer? you can't close! then i have a better way to give an.(then over.(then, and your through. the then bees it's the night is my best\n"
     ]
    }
   ],
   "source": [
    "gen_length = 300\n",
    "# homer_simpson, moe_szyslak, or Barney_Gumble\n",
    "prime_word = 'moe_szyslak'\n",
    "\n",
    "\"\"\"\n",
    "DON'T MODIFY ANYTHING IN THIS CELL THAT IS BELOW THIS LINE\n",
    "\"\"\"\n",
    "loaded_graph = tf.Graph()\n",
    "with tf.Session(graph=loaded_graph) as sess:\n",
    "    # Load saved model\n",
    "    loader = tf.train.import_meta_graph(load_dir + '.meta')\n",
    "    loader.restore(sess, load_dir)\n",
    "\n",
    "    # Get Tensors from loaded model\n",
    "    input_text, initial_state, final_state, probs = get_tensors(loaded_graph)\n",
    "\n",
    "    # Sentences generation setup\n",
    "    gen_sentences = [prime_word + ':']\n",
    "    prev_state = sess.run(initial_state, {input_text: np.array([[1]])})\n",
    "\n",
    "    # Generate sentences\n",
    "    for n in range(gen_length):\n",
    "        # Dynamic Input\n",
    "        dyn_input = [[vocab_to_int[word] for word in gen_sentences[-seq_length:]]]\n",
    "        dyn_seq_length = len(dyn_input[0])\n",
    "\n",
    "        # Get Prediction\n",
    "        probabilities, prev_state = sess.run(\n",
    "            [probs, final_state],\n",
    "            {input_text: dyn_input, initial_state: prev_state})\n",
    "        probabilities = probabilities[0]\n",
    "\n",
    "        pred_word = pick_word(probabilities[dyn_seq_length-1], int_to_vocab)\n",
    "\n",
    "        gen_sentences.append(pred_word)\n",
    "    \n",
    "    # Remove tokens\n",
    "    tv_script = ' '.join(gen_sentences)\n",
    "    for key, token in token_dict.items():\n",
    "        ending = ' ' if key in ['\\n', '(', '\"'] else ''\n",
    "        tv_script = tv_script.replace(' ' + token.lower(), key)\n",
    "    tv_script = tv_script.replace('\\n ', '\\n')\n",
    "    tv_script = tv_script.replace('( ', '(')\n",
    "        \n",
    "    print(tv_script)"
   ]
  },
  {
   "cell_type": "markdown",
   "metadata": {},
   "source": [
    "# The TV Script is Nonsensical\n",
    "It's ok if the TV script doesn't make any sense.  We trained on less than a megabyte of text.  In order to get good results, you'll have to use a smaller vocabulary or get more data.  Luckly there's more data!  As we mentioned in the begging of this project, this is a subset of [another dataset](https://www.kaggle.com/wcukierski/the-simpsons-by-the-data).  We didn't have you train on all the data, because that would take too long.  However, you are free to train your neural network on all the data.  After you complete the project, of course.\n",
    "# Submitting This Project\n",
    "When submitting this project, make sure to run all the cells before saving the notebook. Save the notebook file as \"dlnd_tv_script_generation.ipynb\" and save it as a HTML file under \"File\" -> \"Download as\". Include the \"helper.py\" and \"problem_unittests.py\" files in your submission."
   ]
  }
 ],
 "metadata": {
  "kernelspec": {
   "display_name": "Python 3",
   "language": "python",
   "name": "python3"
  },
  "language_info": {
   "codemirror_mode": {
    "name": "ipython",
    "version": 3
   },
   "file_extension": ".py",
   "mimetype": "text/x-python",
   "name": "python",
   "nbconvert_exporter": "python",
   "pygments_lexer": "ipython3",
   "version": "3.5.2"
  },
  "widgets": {
   "state": {},
   "version": "1.1.2"
  }
 },
 "nbformat": 4,
 "nbformat_minor": 1
}
